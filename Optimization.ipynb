{
  "nbformat": 4,
  "nbformat_minor": 0,
  "metadata": {
    "colab": {
      "provenance": []
    },
    "kernelspec": {
      "name": "python3",
      "display_name": "Python 3"
    },
    "language_info": {
      "name": "python"
    }
  },
  "cells": [
    {
      "cell_type": "code",
      "execution_count": null,
      "metadata": {
        "colab": {
          "base_uri": "https://localhost:8080/"
        },
        "id": "LkwP41DwPoFp",
        "outputId": "b95aa9b9-e0ad-4dc4-c155-a1c1667f4954"
      },
      "outputs": [
        {
          "output_type": "stream",
          "name": "stdout",
          "text": [
            "Collecting pulp\n",
            "  Downloading PuLP-2.7.0-py3-none-any.whl (14.3 MB)\n",
            "\u001b[2K     \u001b[90m━━━━━━━━━━━━━━━━━━━━━━━━━━━━━━━━━━━━━━━━\u001b[0m \u001b[32m14.3/14.3 MB\u001b[0m \u001b[31m38.4 MB/s\u001b[0m eta \u001b[36m0:00:00\u001b[0m\n",
            "\u001b[?25hInstalling collected packages: pulp\n",
            "Successfully installed pulp-2.7.0\n"
          ]
        }
      ],
      "source": [
        "!pip install pulp"
      ]
    },
    {
      "cell_type": "code",
      "source": [
        "import pulp as lp"
      ],
      "metadata": {
        "id": "sAADikt8RMs5"
      },
      "execution_count": null,
      "outputs": []
    },
    {
      "cell_type": "code",
      "source": [
        "Teh = lp.LpProblem('Teh', lp.LpMinimize)\n",
        "x = lp.LpVariable.dicts('x',((i) for i in range(1,4)),lowBound=0,upBound=None,cat='Integer')\n",
        "Teh += 14600*x[1]+27100*x[2]+50100*x[3]"
      ],
      "metadata": {
        "id": "GYxb7TI2RRmt"
      },
      "execution_count": null,
      "outputs": []
    },
    {
      "cell_type": "code",
      "source": [
        "#fungsi kendala\n",
        "Teh += 75*x[1]+ 150*x[2]+ 300*x[3] <=90000\n",
        "Teh += 2250*x[1]+ 4500*x[2]+ 9000*x[3] <=1260000\n",
        "Teh += 3000*x[1]+4000*x[2]+5000*x[3] <=1200000\n",
        "Teh += 5*x[1]+8*x[2]+12*x[3] <=1680\n",
        "Teh += x[1] >=140\n",
        "Teh += x[2] >=50\n",
        "Teh += x[3] >=10"
      ],
      "metadata": {
        "id": "mTkK7GDkkR3L"
      },
      "execution_count": null,
      "outputs": []
    },
    {
      "cell_type": "code",
      "source": [
        "print(Teh)\n",
        "Teh.solve()\n",
        "lp.LpStatus[Teh.status]\n",
        "print()\n",
        "\n",
        "if lp.LpStatus[Teh.status] == \"Optimal\":\n",
        "  print(\"Optimal Solution:\")\n",
        "  for i in range(1,4):\n",
        "    print(\"x[{}] = {}\".format(i,x[i].varValue))\n",
        "  print(\"Min f(x) = \", lp.value(Teh.objective))\n",
        "else:\n",
        "  print(\"No Optimal Solution\")"
      ],
      "metadata": {
        "colab": {
          "base_uri": "https://localhost:8080/"
        },
        "id": "kbKdGCFblnwL",
        "outputId": "ffa2a35e-6162-461e-fba7-1d9ccc6316be"
      },
      "execution_count": null,
      "outputs": [
        {
          "output_type": "stream",
          "name": "stdout",
          "text": [
            "Teh:\n",
            "MINIMIZE\n",
            "14600*x_1 + 27100*x_2 + 50100*x_3 + 0\n",
            "SUBJECT TO\n",
            "_C1: 75 x_1 + 150 x_2 + 300 x_3 <= 90000\n",
            "\n",
            "_C2: 2250 x_1 + 4500 x_2 + 9000 x_3 <= 1260000\n",
            "\n",
            "_C3: 3000 x_1 + 4000 x_2 + 5000 x_3 <= 1200000\n",
            "\n",
            "_C4: 5 x_1 + 8 x_2 + 12 x_3 <= 1680\n",
            "\n",
            "_C5: x_1 >= 140\n",
            "\n",
            "_C6: x_2 >= 50\n",
            "\n",
            "_C7: x_3 >= 10\n",
            "\n",
            "VARIABLES\n",
            "0 <= x_1 Integer\n",
            "0 <= x_2 Integer\n",
            "0 <= x_3 Integer\n",
            "\n",
            "\n",
            "Optimal Solution:\n",
            "x[1] = 140.0\n",
            "x[2] = 50.0\n",
            "x[3] = 10.0\n",
            "Min f(x) =  3900000.0\n"
          ]
        }
      ]
    },
    {
      "cell_type": "code",
      "source": [
        "Teh = lp.LpProblem('Teh', lp.LpMaximize)\n",
        "x = lp.LpVariable.dicts('x',((i) for i in range(1,4)),lowBound=0,upBound=None,cat='Integer')\n",
        "Teh += 22900*x[1]+42900*x[2]+84900*x[3]"
      ],
      "metadata": {
        "id": "nJllAJTcnSHB"
      },
      "execution_count": null,
      "outputs": []
    },
    {
      "cell_type": "code",
      "source": [
        "#fungsi kendala\n",
        "Teh += 75*x[1]+ 150*x[2]+ 300*x[3] <=90000\n",
        "Teh += 2250*x[1]+ 4500*x[2]+ 9000*x[3] <=1260000\n",
        "Teh += 3000*x[1]+4000*x[2]+5000*x[3] <=1200000\n",
        "Teh += 5*x[1]+8*x[2]+12*x[3] <=1680\n",
        "Teh += x[1] >=140\n",
        "Teh += x[2] >=50\n",
        "Teh += x[3] >=10\n",
        "Teh += 14600*x[1]+27100*x[2]+50100*x[3] == 3900000"
      ],
      "metadata": {
        "id": "2z1BJXMIoLD8"
      },
      "execution_count": null,
      "outputs": []
    },
    {
      "cell_type": "code",
      "source": [
        "print(Teh)\n",
        "Teh.solve()\n",
        "lp.LpStatus[Teh.status]\n",
        "print()\n",
        "\n",
        "if lp.LpStatus[Teh.status] == \"Optimal\":\n",
        "  print(\"Optimal Solution:\")\n",
        "  for i in range(1,4):\n",
        "    print(\"x[{}] = {}\".format(i,x[i].varValue))\n",
        "  print(\"Max f(x) = \", lp.value(Teh.objective))\n",
        "else:\n",
        "  print(\"No Optimal Solution\")"
      ],
      "metadata": {
        "colab": {
          "base_uri": "https://localhost:8080/"
        },
        "id": "n5MiEEKKohn-",
        "outputId": "d0b3e8b4-bd0d-40ab-8066-3196c11ca938"
      },
      "execution_count": null,
      "outputs": [
        {
          "output_type": "stream",
          "name": "stdout",
          "text": [
            "Teh:\n",
            "MAXIMIZE\n",
            "22900*x_1 + 42900*x_2 + 84900*x_3 + 0\n",
            "SUBJECT TO\n",
            "_C1: 75 x_1 + 150 x_2 + 300 x_3 <= 90000\n",
            "\n",
            "_C2: 2250 x_1 + 4500 x_2 + 9000 x_3 <= 1260000\n",
            "\n",
            "_C3: 3000 x_1 + 4000 x_2 + 5000 x_3 <= 1200000\n",
            "\n",
            "_C4: 5 x_1 + 8 x_2 + 12 x_3 <= 1680\n",
            "\n",
            "_C5: x_1 >= 140\n",
            "\n",
            "_C6: x_2 >= 50\n",
            "\n",
            "_C7: x_3 >= 10\n",
            "\n",
            "_C8: 14600 x_1 + 27100 x_2 + 50100 x_3 = 3900000\n",
            "\n",
            "VARIABLES\n",
            "0 <= x_1 Integer\n",
            "0 <= x_2 Integer\n",
            "0 <= x_3 Integer\n",
            "\n",
            "\n",
            "Optimal Solution:\n",
            "x[1] = 140.0\n",
            "x[2] = 50.0\n",
            "x[3] = 10.0\n",
            "Max f(x) =  6200000.0\n"
          ]
        }
      ]
    },
    {
      "cell_type": "code",
      "source": [],
      "metadata": {
        "id": "Rcnfa6RVok-8"
      },
      "execution_count": null,
      "outputs": []
    }
  ]
}