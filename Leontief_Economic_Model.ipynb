{
  "nbformat": 4,
  "nbformat_minor": 0,
  "metadata": {
    "colab": {
      "provenance": []
    },
    "kernelspec": {
      "name": "python3",
      "display_name": "Python 3"
    },
    "language_info": {
      "name": "python"
    }
  },
  "cells": [
    {
      "cell_type": "markdown",
      "source": [
        "## MODEL TERTUTUP (MASUKKAN-KELUARAN) LEONTIEF"
      ],
      "metadata": {
        "id": "KJ1wf5J13pSG"
      }
    },
    {
      "cell_type": "code",
      "execution_count": null,
      "metadata": {
        "id": "I9cpXgLONkLC"
      },
      "outputs": [],
      "source": [
        "from sympy import *\n",
        "import numpy as np"
      ]
    },
    {
      "cell_type": "code",
      "source": [
        "def add_row(A,k,j,i):\n",
        "  \"Menambahkan k kali baris j ke baris i di matriks A.\"\n",
        "  n = A.shape[0]\n",
        "  E = eye(n)\n",
        "  if i == j:\n",
        "      E[i,i]= k+1\n",
        "  else:\n",
        "      E[i,j]= k\n",
        "  return E @ A\n",
        "\n",
        "def scale_row(A,k,i):\n",
        "    \"Mengalikan angka k ke baris i di matriks A\"\n",
        "    n = A.shape[0]\n",
        "    E = np.eye(n)\n",
        "    E[i,i] = k\n",
        "    return E @ A\n",
        "\n",
        "def switch_rows(A,i,j):\n",
        "    \"Menukar baris i and j di matriks A.\"\n",
        "    n = A.shape[0]\n",
        "    E = np.eye(n)\n",
        "    E[i,i] = 0\n",
        "    E[j,j] = 0\n",
        "    E[i,j] = 1\n",
        "    E[j,i] = 1\n",
        "    return E @ A\n"
      ],
      "metadata": {
        "id": "Cth4fqqJNoD0"
      },
      "execution_count": null,
      "outputs": []
    },
    {
      "cell_type": "code",
      "source": [
        "#E matriks pertukaran atau matriks masukan-keluaran\n",
        "E = Matrix([[0.2,0.1,0.6], [0.4, 0.5,0.1],[0.4,0.4,0.3]])\n",
        "I=  Matrix([[1,0,0],[0,1,0],[0,0,1]])\n",
        "A= I-E\n",
        "A"
      ],
      "metadata": {
        "colab": {
          "base_uri": "https://localhost:8080/",
          "height": 78
        },
        "id": "-UCC3_b-Nz-t",
        "outputId": "8aababab-1fae-4d4e-db04-5cfb30e097cb"
      },
      "execution_count": null,
      "outputs": [
        {
          "output_type": "execute_result",
          "data": {
            "text/plain": [
              "Matrix([\n",
              "[ 0.8, -0.1, -0.6],\n",
              "[-0.4,  0.5, -0.1],\n",
              "[-0.4, -0.4,  0.7]])"
            ],
            "text/latex": "$\\displaystyle \\left[\\begin{matrix}0.8 & -0.1 & -0.6\\\\-0.4 & 0.5 & -0.1\\\\-0.4 & -0.4 & 0.7\\end{matrix}\\right]$"
          },
          "metadata": {},
          "execution_count": 3
        }
      ]
    },
    {
      "cell_type": "code",
      "source": [],
      "metadata": {
        "id": "KxiYEj9DgaEZ"
      },
      "execution_count": null,
      "outputs": []
    },
    {
      "cell_type": "code",
      "source": [
        "# d vektor 0, karena syarat kesetimbangan:pengeluaran total=pendapatan total\n",
        "d= Matrix([0,0,0])\n",
        "Ad = A.row_join(d)\n",
        "Ad"
      ],
      "metadata": {
        "colab": {
          "base_uri": "https://localhost:8080/",
          "height": 78
        },
        "id": "fE79JqB592xz",
        "outputId": "631dd94d-5dc0-47ae-b14b-cc1de23dc5ab"
      },
      "execution_count": null,
      "outputs": [
        {
          "output_type": "execute_result",
          "data": {
            "text/plain": [
              "Matrix([\n",
              "[ 0.8, -0.1, -0.6, 0],\n",
              "[-0.4,  0.5, -0.1, 0],\n",
              "[-0.4, -0.4,  0.7, 0]])"
            ],
            "text/latex": "$\\displaystyle \\left[\\begin{matrix}0.8 & -0.1 & -0.6 & 0\\\\-0.4 & 0.5 & -0.1 & 0\\\\-0.4 & -0.4 & 0.7 & 0\\end{matrix}\\right]$"
          },
          "metadata": {},
          "execution_count": 4
        }
      ]
    },
    {
      "cell_type": "code",
      "source": [
        "sol,params= A.gauss_jordan_solve(d)\n",
        "sol"
      ],
      "metadata": {
        "colab": {
          "base_uri": "https://localhost:8080/",
          "height": 78
        },
        "id": "_fAb19dHACHb",
        "outputId": "76b4a4cc-a0c3-4192-cbe1-b05606ae898d"
      },
      "execution_count": null,
      "outputs": [
        {
          "output_type": "execute_result",
          "data": {
            "text/plain": [
              "Matrix([\n",
              "[0],\n",
              "[0],\n",
              "[0]])"
            ],
            "text/latex": "$\\displaystyle \\left[\\begin{matrix}0\\\\0\\\\0\\end{matrix}\\right]$"
          },
          "metadata": {},
          "execution_count": 5
        }
      ]
    },
    {
      "cell_type": "markdown",
      "source": [
        "Solusi trivial, akan dicari matriks eselon tereduksinya"
      ],
      "metadata": {
        "id": "tkzpY3NpF4zJ"
      }
    },
    {
      "cell_type": "code",
      "source": [
        "Ad= scale_row(Ad,10/8,0)\n",
        "Ad"
      ],
      "metadata": {
        "colab": {
          "base_uri": "https://localhost:8080/",
          "height": 78
        },
        "id": "iT8O_-9Y-Vbm",
        "outputId": "e3d319dc-75a1-473e-e29f-f99d0b34457a"
      },
      "execution_count": null,
      "outputs": [
        {
          "output_type": "execute_result",
          "data": {
            "text/plain": [
              "Matrix([\n",
              "[ 1.0, -0.125, -0.75, 0],\n",
              "[-0.4,    0.5,  -0.1, 0],\n",
              "[-0.4,   -0.4,   0.7, 0]])"
            ],
            "text/latex": "$\\displaystyle \\left[\\begin{matrix}1.0 & -0.125 & -0.75 & 0\\\\-0.4 & 0.5 & -0.1 & 0\\\\-0.4 & -0.4 & 0.7 & 0\\end{matrix}\\right]$"
          },
          "metadata": {},
          "execution_count": 6
        }
      ]
    },
    {
      "cell_type": "code",
      "source": [
        "Ad= add_row(Ad,0.4,0,1)\n",
        "Ad"
      ],
      "metadata": {
        "colab": {
          "base_uri": "https://localhost:8080/",
          "height": 78
        },
        "id": "03oIp6xR_hjn",
        "outputId": "5e88a993-db3d-48da-a726-5ed7c9aa4493"
      },
      "execution_count": null,
      "outputs": [
        {
          "output_type": "execute_result",
          "data": {
            "text/plain": [
              "Matrix([\n",
              "[ 1.0, -0.125, -0.75, 0],\n",
              "[   0,   0.45,  -0.4, 0],\n",
              "[-0.4,   -0.4,   0.7, 0]])"
            ],
            "text/latex": "$\\displaystyle \\left[\\begin{matrix}1.0 & -0.125 & -0.75 & 0\\\\0 & 0.45 & -0.4 & 0\\\\-0.4 & -0.4 & 0.7 & 0\\end{matrix}\\right]$"
          },
          "metadata": {},
          "execution_count": 7
        }
      ]
    },
    {
      "cell_type": "code",
      "source": [
        "Ad= add_row(Ad,0.4,0,2)\n",
        "Ad"
      ],
      "metadata": {
        "colab": {
          "base_uri": "https://localhost:8080/",
          "height": 78
        },
        "id": "GMBYua0RAXLT",
        "outputId": "223266c0-3039-4d42-eee6-754d5c43c2dd"
      },
      "execution_count": null,
      "outputs": [
        {
          "output_type": "execute_result",
          "data": {
            "text/plain": [
              "Matrix([\n",
              "[1.0, -0.125, -0.75, 0],\n",
              "[  0,   0.45,  -0.4, 0],\n",
              "[  0,  -0.45,   0.4, 0]])"
            ],
            "text/latex": "$\\displaystyle \\left[\\begin{matrix}1.0 & -0.125 & -0.75 & 0\\\\0 & 0.45 & -0.4 & 0\\\\0 & -0.45 & 0.4 & 0\\end{matrix}\\right]$"
          },
          "metadata": {},
          "execution_count": 8
        }
      ]
    },
    {
      "cell_type": "code",
      "source": [
        "Ad= scale_row(Ad,1/0.45,1)\n",
        "Ad"
      ],
      "metadata": {
        "colab": {
          "base_uri": "https://localhost:8080/",
          "height": 78
        },
        "id": "zsC9lyxkEgJ6",
        "outputId": "ce2d1d66-a4c8-4792-88cc-c80450d60d3f"
      },
      "execution_count": null,
      "outputs": [
        {
          "output_type": "execute_result",
          "data": {
            "text/plain": [
              "Matrix([\n",
              "[1.0, -0.125,              -0.75, 0],\n",
              "[  0,    1.0, -0.888888888888889, 0],\n",
              "[  0,  -0.45,                0.4, 0]])"
            ],
            "text/latex": "$\\displaystyle \\left[\\begin{matrix}1.0 & -0.125 & -0.75 & 0\\\\0 & 1.0 & -0.888888888888889 & 0\\\\0 & -0.45 & 0.4 & 0\\end{matrix}\\right]$"
          },
          "metadata": {},
          "execution_count": 9
        }
      ]
    },
    {
      "cell_type": "code",
      "source": [
        "Ad= add_row(Ad,0.45,1,2)\n",
        "Ad"
      ],
      "metadata": {
        "colab": {
          "base_uri": "https://localhost:8080/",
          "height": 78
        },
        "id": "6TaySsANElAD",
        "outputId": "a4006a8d-6147-4110-9bf6-751a3aa070ee"
      },
      "execution_count": null,
      "outputs": [
        {
          "output_type": "execute_result",
          "data": {
            "text/plain": [
              "Matrix([\n",
              "[1.0, -0.125,                 -0.75, 0],\n",
              "[  0,    1.0,    -0.888888888888889, 0],\n",
              "[  0,      0, -1.11022302462516e-16, 0]])"
            ],
            "text/latex": "$\\displaystyle \\left[\\begin{matrix}1.0 & -0.125 & -0.75 & 0\\\\0 & 1.0 & -0.888888888888889 & 0\\\\0 & 0 & -1.11022302462516 \\cdot 10^{-16} & 0\\end{matrix}\\right]$"
          },
          "metadata": {},
          "execution_count": 10
        }
      ]
    },
    {
      "cell_type": "code",
      "source": [
        "Ad= add_row(Ad,0.125,1,0)\n",
        "Ad"
      ],
      "metadata": {
        "colab": {
          "base_uri": "https://localhost:8080/",
          "height": 78
        },
        "id": "39D2sbSmEq4H",
        "outputId": "df10dc31-7de4-4187-ea48-7bb556738853"
      },
      "execution_count": null,
      "outputs": [
        {
          "output_type": "execute_result",
          "data": {
            "text/plain": [
              "Matrix([\n",
              "[1.0,   0,    -0.861111111111111, 0],\n",
              "[  0, 1.0,    -0.888888888888889, 0],\n",
              "[  0,   0, -1.11022302462516e-16, 0]])"
            ],
            "text/latex": "$\\displaystyle \\left[\\begin{matrix}1.0 & 0 & -0.861111111111111 & 0\\\\0 & 1.0 & -0.888888888888889 & 0\\\\0 & 0 & -1.11022302462516 \\cdot 10^{-16} & 0\\end{matrix}\\right]$"
          },
          "metadata": {},
          "execution_count": 11
        }
      ]
    },
    {
      "cell_type": "code",
      "source": [
        "Ad= scale_row(Ad,1/Ad[2,2],2)\n",
        "Ad"
      ],
      "metadata": {
        "colab": {
          "base_uri": "https://localhost:8080/",
          "height": 78
        },
        "id": "CVWSlp_0EwcD",
        "outputId": "a3e64708-20a3-41ea-b96a-54f83ce0ab04"
      },
      "execution_count": null,
      "outputs": [
        {
          "output_type": "execute_result",
          "data": {
            "text/plain": [
              "Matrix([\n",
              "[1.0,   0, -0.861111111111111, 0],\n",
              "[  0, 1.0, -0.888888888888889, 0],\n",
              "[  0,   0,                1.0, 0]])"
            ],
            "text/latex": "$\\displaystyle \\left[\\begin{matrix}1.0 & 0 & -0.861111111111111 & 0\\\\0 & 1.0 & -0.888888888888889 & 0\\\\0 & 0 & 1.0 & 0\\end{matrix}\\right]$"
          },
          "metadata": {},
          "execution_count": 12
        }
      ]
    },
    {
      "cell_type": "markdown",
      "source": [
        "Dari bentuk matriks eselon tereduksi diatas, dapat dibentuk vektor harga\n",
        "\n",
        " [p1,p2,p3]=s[0.861111111111111,0.888888888888889,1].\n",
        "\n",
        " Jika kita substitusi harga/gaji tukang ledeng(x3=108), maka s=108\n",
        "\n",
        "\n",
        "\n"
      ],
      "metadata": {
        "id": "xUJRum9MHDM1"
      }
    },
    {
      "cell_type": "code",
      "source": [
        "s = 108\n",
        "P=Matrix([[0.861111111111111,0.888888888888889,1]])\n",
        "P*s"
      ],
      "metadata": {
        "colab": {
          "base_uri": "https://localhost:8080/",
          "height": 39
        },
        "id": "iqGbK1QdE447",
        "outputId": "ea4829c2-f2af-43ea-872c-01030c408462"
      },
      "execution_count": null,
      "outputs": [
        {
          "output_type": "execute_result",
          "data": {
            "text/plain": [
              "Matrix([[93.0, 96.0, 108]])"
            ],
            "text/latex": "$\\displaystyle \\left[\\begin{matrix}93.0 & 96.0 & 108\\end{matrix}\\right]$"
          },
          "metadata": {},
          "execution_count": 13
        }
      ]
    },
    {
      "cell_type": "markdown",
      "source": [
        "Dengan dekomposisi"
      ],
      "metadata": {
        "id": "VOyHN_JORD1F"
      }
    },
    {
      "cell_type": "code",
      "source": [
        "import numpy as np\n",
        "\n",
        "# Definisikan matriks A\n",
        "A = np.array([[ 0.8, -0.1, -0.6],\n",
        "       [-0.4,  0.5, -0.1],\n",
        "       [-0.4, -0.4,  0.7]])\n",
        "\n",
        "# Lakukan SVD pada matriks A\n",
        "U, S, VT = np.linalg.svd(A)\n",
        "\n",
        "# Matriks diagonal dari nilai singular dalam bentuk vektor\n",
        "# Hasil SVD berupa U, nilai singular dalam bentuk diagonal dalam S, dan VT (V Transpose)\n",
        "print(\"Matriks U:\")\n",
        "print(U)\n",
        "print(\"\\nMatriks Singular Values:\")\n",
        "print(np.diag(S))\n",
        "print(\"\\nMatriks V Transpose:\")\n",
        "print(VT)\n",
        "\n",
        "#Setelah dilakukan SVD, temukan nilai-nilai singular yang mendekati nol\n",
        "tolerance = 1e-10  # Ambang batas untuk nilai-nilai yang dianggap nol\n",
        "\n",
        "# Cek nilai-nilai singular yang mendekati nol\n",
        "zero_singular_values = np.where(S < tolerance)[0]\n",
        "# Temukan vektor-vektor non-trivial dari matriks VT (V transpos)\n",
        "if len(zero_singular_values) > 0:\n",
        "    non_trivial_solution = VT[zero_singular_values[0]]\n",
        "    print(\"Solusi non-trivial ditemukan:\")\n",
        "    print(abs(non_trivial_solution))\n",
        "else:\n",
        "    print(\"Tidak ada solusi non-trivial untuk Ax = 0.\")"
      ],
      "metadata": {
        "colab": {
          "base_uri": "https://localhost:8080/"
        },
        "id": "bibMQm70KI1C",
        "outputId": "d01dbfb3-e634-4c6e-9560-d164796a57a8"
      },
      "execution_count": null,
      "outputs": [
        {
          "output_type": "stream",
          "name": "stdout",
          "text": [
            "Matriks U:\n",
            "[[-0.76594976  0.28282084  0.57735027]\n",
            " [ 0.13804485 -0.80474237  0.57735027]\n",
            " [ 0.62790491  0.52192153  0.57735027]]\n",
            "\n",
            "Matriks Singular Values:\n",
            "[[1.28051219e+00 0.00000000e+00 0.00000000e+00]\n",
            " [0.00000000e+00 7.74782900e-01 0.00000000e+00]\n",
            " [0.00000000e+00 0.00000000e+00 4.97085221e-17]]\n",
            "\n",
            "Matriks V Transpose:\n",
            "[[-0.71779068 -0.08242371  0.69136305]\n",
            " [ 0.43803884 -0.82529168  0.35639249]\n",
            " [-0.54120099 -0.55865908 -0.62849147]]\n",
            "Solusi non-trivial ditemukan:\n",
            "[0.54120099 0.55865908 0.62849147]\n"
          ]
        }
      ]
    },
    {
      "cell_type": "code",
      "source": [
        "#cek\n",
        "A_remake = (U @ np.diag(S) @ VT)\n",
        "print(A_remake)"
      ],
      "metadata": {
        "colab": {
          "base_uri": "https://localhost:8080/"
        },
        "id": "QwtZyLKwWRVd",
        "outputId": "42d8dab1-8635-489b-cf9b-8c9d0dc6f426"
      },
      "execution_count": null,
      "outputs": [
        {
          "output_type": "stream",
          "name": "stdout",
          "text": [
            "[[ 0.8 -0.1 -0.6]\n",
            " [-0.4  0.5 -0.1]\n",
            " [-0.4 -0.4  0.7]]\n"
          ]
        }
      ]
    },
    {
      "cell_type": "code",
      "source": [
        "P=Matrix([[0.54120099,0.55865908,0.62849147]])\n",
        "S=108/0.62849147\n",
        "P*S"
      ],
      "metadata": {
        "colab": {
          "base_uri": "https://localhost:8080/",
          "height": 39
        },
        "id": "lH0f033cQh4K",
        "outputId": "fbc4c37d-24cf-4fa3-8a13-69719079e6a0"
      },
      "execution_count": null,
      "outputs": [
        {
          "output_type": "execute_result",
          "data": {
            "text/plain": [
              "Matrix([[93.0000003341334, 95.9999992362665, 108.0]])"
            ],
            "text/latex": "$\\displaystyle \\left[\\begin{matrix}93.0000003341334 & 95.9999992362665 & 108.0\\end{matrix}\\right]$"
          },
          "metadata": {},
          "execution_count": 16
        }
      ]
    },
    {
      "cell_type": "markdown",
      "source": [
        "Didapat hasil yang sama baik dengan cara gauss jordan (mencari matriks eselon tereduksi) ataupun dengan dekomposisi"
      ],
      "metadata": {
        "id": "w854eY2zUDfi"
      }
    },
    {
      "cell_type": "markdown",
      "source": [
        "\n",
        "#TEOREMA 11.9.1\n",
        "Jika E adalah sebuah matriks pertukaran, maka Ep=p selalu mempunyai solusi nontrivial p dimana entri-entrinya adalah tak negatif."
      ],
      "metadata": {
        "id": "DNw_oK7RJ-xy"
      }
    },
    {
      "cell_type": "code",
      "source": [
        "E=Matrix([[1/2,0],[-1/2,0]])\n",
        "I=Matrix([[1,0],[0,1]])\n",
        "A= I-E\n",
        "A"
      ],
      "metadata": {
        "colab": {
          "base_uri": "https://localhost:8080/",
          "height": 58
        },
        "id": "dblkoVigJSAT",
        "outputId": "f02f5b94-ecde-40d6-ab35-975d263e4209"
      },
      "execution_count": null,
      "outputs": [
        {
          "output_type": "execute_result",
          "data": {
            "text/plain": [
              "Matrix([\n",
              "[0.5, 0],\n",
              "[0.5, 1]])"
            ],
            "text/latex": "$\\displaystyle \\left[\\begin{matrix}0.5 & 0\\\\0.5 & 1\\end{matrix}\\right]$"
          },
          "metadata": {},
          "execution_count": 17
        }
      ]
    },
    {
      "cell_type": "code",
      "source": [
        "#E matriks pertukaran atau matriks masukan-keluaran\n",
        "E = np.array([[1/2,0],[-1/2,0]])\n",
        "# Matriks identitas\n",
        "I = np.eye(len(E))\n",
        "A=I-E\n",
        "print(A)"
      ],
      "metadata": {
        "colab": {
          "base_uri": "https://localhost:8080/"
        },
        "id": "JDaJ9xnhgoUZ",
        "outputId": "7993a755-9856-43d9-8d2f-f8d92c29a5fe"
      },
      "execution_count": null,
      "outputs": [
        {
          "output_type": "stream",
          "name": "stdout",
          "text": [
            "[[0.5 0. ]\n",
            " [0.5 1. ]]\n"
          ]
        }
      ]
    },
    {
      "cell_type": "code",
      "source": [
        "import numpy as np\n",
        "\n",
        "# Definisikan matriks A\n",
        "A = np.array([[1/2,0],[-1/2,0]])\n",
        "\n",
        "# Lakukan SVD pada matriks A\n",
        "U, S, VT = np.linalg.svd(A)\n",
        "\n",
        "# Matriks diagonal dari nilai singular dalam bentuk vektor\n",
        "# Hasil SVD berupa U, nilai singular dalam bentuk diagonal dalam S, dan VT (V Transpose)\n",
        "print(\"Matriks U:\")\n",
        "print(U)\n",
        "print(\"\\nMatriks Singular Values:\")\n",
        "print(np.diag(S))\n",
        "print(\"\\nMatriks V Transpose:\")\n",
        "print(VT)\n",
        "\n",
        "#Setelah dilakukan SVD, temukan nilai-nilai singular yang mendekati nol\n",
        "tolerance = 1e-10  # Ambang batas untuk nilai-nilai yang dianggap nol\n",
        "\n",
        "# Cek nilai-nilai singular yang mendekati nol\n",
        "zero_singular_values = np.where(S < tolerance)[0]\n",
        "\n",
        "# Temukan vektor-vektor non-trivial dari matriks VT (V transpos)\n",
        "if len(zero_singular_values) > 0:\n",
        "    non_trivial_solution = VT[zero_singular_values[0]]\n",
        "    print(\"Solusi non-trivial ditemukan:\")\n",
        "    print(abs(non_trivial_solution))\n",
        "else:\n",
        "    print(\"Tidak ada solusi non-trivial untuk Ax = 0.\")"
      ],
      "metadata": {
        "colab": {
          "base_uri": "https://localhost:8080/"
        },
        "id": "-3yZ29sBYl5s",
        "outputId": "1d8b07fd-9608-4462-ba36-0137029d5db0"
      },
      "execution_count": null,
      "outputs": [
        {
          "output_type": "stream",
          "name": "stdout",
          "text": [
            "Matriks U:\n",
            "[[-0.70710678  0.70710678]\n",
            " [ 0.70710678  0.70710678]]\n",
            "\n",
            "Matriks Singular Values:\n",
            "[[0.70710678 0.        ]\n",
            " [0.         0.        ]]\n",
            "\n",
            "Matriks V Transpose:\n",
            "[[-1. -0.]\n",
            " [ 0.  1.]]\n",
            "Solusi non-trivial ditemukan:\n",
            "[0. 1.]\n"
          ]
        }
      ]
    },
    {
      "cell_type": "code",
      "source": [
        "import numpy as np\n",
        "\n",
        "# Definisikan matriks A\n",
        "A = np.array([[0,0],[0,0]])\n",
        "\n",
        "# Lakukan SVD pada matriks A\n",
        "U, S, VT = np.linalg.svd(A)\n",
        "\n",
        "# Matriks diagonal dari nilai singular dalam bentuk vektor\n",
        "# Hasil SVD berupa U, nilai singular dalam bentuk diagonal dalam S, dan VT (V Transpose)\n",
        "print(\"Matriks U:\")\n",
        "print(U)\n",
        "print(\"\\nMatriks Singular Values:\")\n",
        "print(np.diag(S))\n",
        "print(\"\\nMatriks V Transpose:\")\n",
        "print(VT)\n",
        "\n",
        "#Setelah dilakukan SVD, temukan nilai-nilai singular yang mendekati nol\n",
        "tolerance = 1e-10  # Ambang batas untuk nilai-nilai yang dianggap nol\n",
        "\n",
        "# Cek nilai-nilai singular yang mendekati nol\n",
        "zero_singular_values = np.where(S < tolerance)[0]\n",
        "\n",
        "# Temukan vektor-vektor non-trivial dari matriks VT (V transpos)\n",
        "if len(zero_singular_values) > 0:\n",
        "    non_trivial_solution = VT[zero_singular_values[0]]\n",
        "    print(\"Solusi non-trivial ditemukan:\")\n",
        "    print(abs(non_trivial_solution))\n",
        "else:\n",
        "    print(\"Tidak ada solusi non-trivial untuk Ax = 0.\")"
      ],
      "metadata": {
        "colab": {
          "base_uri": "https://localhost:8080/"
        },
        "id": "0cxcRrE7cp9b",
        "outputId": "b89845da-b3f5-41ce-8e59-df641e302112"
      },
      "execution_count": null,
      "outputs": [
        {
          "output_type": "stream",
          "name": "stdout",
          "text": [
            "Matriks U:\n",
            "[[1. 0.]\n",
            " [0. 1.]]\n",
            "\n",
            "Matriks Singular Values:\n",
            "[[0. 0.]\n",
            " [0. 0.]]\n",
            "\n",
            "Matriks V Transpose:\n",
            "[[1. 0.]\n",
            " [0. 1.]]\n",
            "Solusi non-trivial ditemukan:\n",
            "[1. 0.]\n"
          ]
        }
      ]
    },
    {
      "cell_type": "code",
      "source": [
        "import numpy as np\n",
        "\n",
        "# Definisikan matriks A\n",
        "A = np.array([[0,0],[0,0]])\n",
        "\n",
        "# Lakukan SVD pada matriks A\n",
        "U, S, VT = np.linalg.svd(A)\n",
        "\n",
        "# Matriks diagonal dari nilai singular dalam bentuk vektor\n",
        "# Hasil SVD berupa U, nilai singular dalam bentuk diagonal dalam S, dan VT (V Transpose)\n",
        "print(\"Matriks U:\")\n",
        "print(U)\n",
        "print(\"\\nMatriks Singular Values:\")\n",
        "print(np.diag(S))\n",
        "print(\"\\nMatriks V Transpose:\")\n",
        "print(VT)\n",
        "\n",
        "#Setelah dilakukan SVD, temukan nilai-nilai singular yang mendekati nol\n",
        "tolerance = 1e-10  # Ambang batas untuk nilai-nilai yang dianggap nol\n",
        "\n",
        "# Cek nilai-nilai singular yang mendekati nol\n",
        "zero_singular_values = np.where(S < tolerance)[0]\n",
        "\n",
        "# Temukan vektor-vektor non-trivial dari matriks VT (V transpos)\n",
        "if len(zero_singular_values) > 0:\n",
        "    non_trivial_solution = VT[zero_singular_values[1]]\n",
        "    print(\"Solusi non-trivial ditemukan:\")\n",
        "    print(abs(non_trivial_solution))\n",
        "else:\n",
        "    print(\"Tidak ada solusi non-trivial untuk Ax = 0.\")"
      ],
      "metadata": {
        "colab": {
          "base_uri": "https://localhost:8080/"
        },
        "id": "P0Z7Ky1pdW8n",
        "outputId": "af16d23d-9ef0-4d5c-dd6b-612632ec334f"
      },
      "execution_count": null,
      "outputs": [
        {
          "output_type": "stream",
          "name": "stdout",
          "text": [
            "Matriks U:\n",
            "[[1. 0.]\n",
            " [0. 1.]]\n",
            "\n",
            "Matriks Singular Values:\n",
            "[[0. 0.]\n",
            " [0. 0.]]\n",
            "\n",
            "Matriks V Transpose:\n",
            "[[1. 0.]\n",
            " [0. 1.]]\n",
            "Solusi non-trivial ditemukan:\n",
            "[0. 1.]\n"
          ]
        }
      ]
    },
    {
      "cell_type": "markdown",
      "source": [
        "#TEOREMA 11.9.2"
      ],
      "metadata": {
        "id": "z9NQ0bwHhFjU"
      }
    },
    {
      "cell_type": "code",
      "source": [
        "import numpy as np\n",
        "\n",
        "# Definisikan matriks input-output Leontief E (pastikan ukuran dan isinya relevan)\n",
        "E = np.array([[0.2,0.1,0.6], [0.4, 0.5,0.1],[0.4,0.4,0.3]])\n",
        "\n",
        "# Matriks identitas\n",
        "I = np.eye(len(E))\n",
        "\n",
        "# Matriks (I - E)\n",
        "I_minus_E = I - E\n",
        "\n",
        "# Hitung nilai-nilai eigen dan vektor-vektor eigen dari matriks (I - E)\n",
        "eigenvalues, eigenvectors = np.linalg.eig(I_minus_E)\n",
        "\n",
        "# Temukan vektor eigen yang terkait dengan nilai eigen nol\n",
        "zero_eigen_vector = eigenvectors[:, np.isclose(eigenvalues, 0)]\n",
        "\n",
        "# Cetak vektor eigen yang terkait dengan nilai eigen nol (solusi bebas linear)\n",
        "print(\"Solusi bebas linear (vektor eigen yang terkait dengan nilai eigen nol):\")\n",
        "print(zero_eigen_vector)"
      ],
      "metadata": {
        "colab": {
          "base_uri": "https://localhost:8080/"
        },
        "id": "vVL-3HVfgDoB",
        "outputId": "69980e91-6560-41c1-c574-4dcc0f0ee9dc"
      },
      "execution_count": null,
      "outputs": [
        {
          "output_type": "stream",
          "name": "stdout",
          "text": [
            "Solusi bebas linear (vektor eigen yang terkait dengan nilai eigen nol):\n",
            "[[0.54120099]\n",
            " [0.55865908]\n",
            " [0.62849147]]\n"
          ]
        }
      ]
    },
    {
      "cell_type": "markdown",
      "source": [
        "LATIHAN 2"
      ],
      "metadata": {
        "id": "9-3xXjYt10x2"
      }
    },
    {
      "cell_type": "code",
      "source": [
        "import numpy as np\n",
        "# Definisikan matriks input-output Leontief E (pastikan ukuran dan isinya relevan)\n",
        "E = np.array([[0,0.2,0.5], [1, 0.2,0.5],[0,0.6,0]])\n",
        "\n",
        "#A=I-E\n",
        "# Definisikan matriks A\n",
        "A = np.array([[1,-0.2,-0.5], [-1, 0.8,-0.5],[0,-0.6,1]])\n",
        "\n",
        "# Lakukan SVD pada matriks A\n",
        "U, S, VT = np.linalg.svd(A)\n",
        "\n",
        "# Matriks diagonal dari nilai singular dalam bentuk vektor\n",
        "# Hasil SVD berupa U, nilai singular dalam bentuk diagonal dalam S, dan VT (V Transpose)\n",
        "print(\"Matriks U:\")\n",
        "print(U)\n",
        "print(\"\\nMatriks Singular Values:\")\n",
        "print(np.diag(S))\n",
        "print(\"\\nMatriks V Transpose:\")\n",
        "print(VT)\n",
        "\n",
        "#Setelah dilakukan SVD, temukan nilai-nilai singular yang mendekati nol\n",
        "tolerance = 1e-10  # Ambang batas untuk nilai-nilai yang dianggap nol\n",
        "\n",
        "# Cek nilai-nilai singular yang mendekati nol\n",
        "zero_singular_values = np.where(S < tolerance)[0]\n",
        "\n",
        "# Temukan vektor-vektor non-trivial dari matriks VT (V transpos)\n",
        "if len(zero_singular_values) > 0:\n",
        "    non_trivial_solution = VT[zero_singular_values[0]]\n",
        "    print(\"Solusi non-trivial ditemukan:\")\n",
        "    print(abs(non_trivial_solution))\n",
        "else:\n",
        "    print(\"Tidak ada solusi non-trivial untuk Ax = 0.\")"
      ],
      "metadata": {
        "colab": {
          "base_uri": "https://localhost:8080/"
        },
        "id": "PgzG8IYR0PRz",
        "outputId": "4483befc-ecc1-4351-cc37-c0a2928cb8aa"
      },
      "execution_count": null,
      "outputs": [
        {
          "output_type": "stream",
          "name": "stdout",
          "text": [
            "Matriks U:\n",
            "[[-0.3698934  -0.7279049   0.57735027]\n",
            " [ 0.81533083  0.04361537  0.57735027]\n",
            " [-0.44543743  0.68428953  0.57735027]]\n",
            "\n",
            "Matriks Singular Values:\n",
            "[[1.68470855e+00 0.00000000e+00 0.00000000e+00]\n",
            " [0.00000000e+00 1.30451412e+00 0.00000000e+00]\n",
            " [0.00000000e+00 0.00000000e+00 1.57496097e-16]]\n",
            "\n",
            "Matriks V Transpose:\n",
            "[[-0.70351886  0.58971969 -0.39660044]\n",
            " [-0.59142347 -0.17638785  0.78683264]\n",
            " [-0.3940552  -0.78811041 -0.47286624]]\n",
            "Solusi non-trivial ditemukan:\n",
            "[0.3940552  0.78811041 0.47286624]\n"
          ]
        }
      ]
    },
    {
      "cell_type": "code",
      "source": [
        "P=np.array([[0.3940552, 0.78811041, 0.47286624]])\n",
        "s= 100\n",
        "print (P*s)"
      ],
      "metadata": {
        "colab": {
          "base_uri": "https://localhost:8080/"
        },
        "id": "_tzc0CD11cxm",
        "outputId": "990c5fce-b1df-48c9-9ed9-07a07aeec1a0"
      },
      "execution_count": null,
      "outputs": [
        {
          "output_type": "stream",
          "name": "stdout",
          "text": [
            "[[39.40552  78.811041 47.286624]]\n"
          ]
        }
      ]
    },
    {
      "cell_type": "markdown",
      "source": [
        "## MODEL TERBUKA (PRODUKSI) LEONTIEF"
      ],
      "metadata": {
        "id": "rxmHVFK83ztE"
      }
    },
    {
      "cell_type": "code",
      "source": [
        "import numpy as np\n",
        "from sympy import *"
      ],
      "metadata": {
        "id": "UP5T6zNH32sh"
      },
      "execution_count": null,
      "outputs": []
    },
    {
      "cell_type": "code",
      "source": [
        "def leontief_terbuka():\n",
        "\n",
        "  print(\"Model Terbuka (Produksi) Leontief\")\n",
        "  print(\"1. Mencari Vektor Produksi (x)\")\n",
        "  print(\"2. Mencari Vektor Permintaan (d)\")\n",
        "  print(\"3. Periksa Matriks Konsumsi Produktif (C)\")\n",
        "\n",
        "  pil = int(input(\"Pilihan: \"))\n",
        "\n",
        "  n = int(input(\"Masukkan jumlah variabel: \"))\n",
        "\n",
        "  x = np.zeros(n)\n",
        "  d = np.zeros(n)\n",
        "  C = np.zeros((n,n))\n",
        "  I = np.identity(n)\n",
        "\n",
        "  if pil == 1:\n",
        "    print(\"\\n\")\n",
        "    for i in range(n):\n",
        "      for j in range(n):\n",
        "        C[i,j] = float(input(f\"Masukkan entri matriks ke-[{i+1},{j+1}]: \"))\n",
        "    print(\"\\n\")\n",
        "\n",
        "    for i in range(n):\n",
        "      d[i] = float(input(f\"Masukkan entri ke-{i+1} vektor permintaan: \"))\n",
        "    print(\"\\n\")\n",
        "\n",
        "    hitung_x = np.dot(np.linalg.inv(I-C),d)\n",
        "    print(f\"Matriks Konsumsi (C) = \\n {C} \\n\")\n",
        "    print(f\"Vektor Permintaan (d) = \\n {d} \\n\")\n",
        "    print(f\"Perhitungan (I-C) = \\n {I-C} \\n\")\n",
        "    print(f\"Vektor Produksi (x) = \\n {hitung_x} \\n\")\n",
        "  elif pil == 2:\n",
        "    for i in range(n):\n",
        "      x[i] = float(input(f\"Masukkan entri ke-{i+1} vektor produksi: \"))\n",
        "    print(\"\\n\")\n",
        "\n",
        "    for i in range(n):\n",
        "      for j in range(n):\n",
        "        C[i,j] = float(input(f\"Masukkan entri matriks ke-[{i+1},{j+1}]: \"))\n",
        "    print(\"\\n\")\n",
        "\n",
        "    hitung_d = np.dot((I-C),x)\n",
        "    print(f\"Matriks Konsumsi  = \\n {C} \\n\")\n",
        "    print(f\"Vektor Produksi (x) = \\n {x} \\n\")\n",
        "    print(f\"Perhitungan (I-C) = \\n {I-C} \\n\")\n",
        "    print(f\"Vektor Permintaan (d) = \\n {hitung_d}\")\n",
        "  elif pil == 3:\n",
        "    def is_productive_matrix(C):\n",
        "      num_sectors = C.shape[0]\n",
        "\n",
        "      # Inisialisasi vektor produksi x\n",
        "      x = np.ones(num_sectors)\n",
        "\n",
        "      # Jumlah iterasi yang diinginkan\n",
        "      max_iterations = 100\n",
        "\n",
        "      # Batas toleransi untuk konvergensi\n",
        "      tolerance = 1e-6\n",
        "\n",
        "      for iteration in range(max_iterations):\n",
        "        x_new = np.zeros(num_sectors)\n",
        "\n",
        "        # Iterasi Jacobi\n",
        "        for i in range(num_sectors):\n",
        "          sum_Cx = np.dot(C[i, :], x) - C[i, i] * x[i]\n",
        "          x_new[i] = 1 + sum_Cx\n",
        "\n",
        "          # Memeriksa ketidaksetaraan x > Cx\n",
        "        if np.all(x_new > x):\n",
        "          return True, x_new\n",
        "\n",
        "        x = x_new\n",
        "\n",
        "      return False, None\n",
        "\n",
        "\n",
        "    def cek_korolari(C):\n",
        "      # Mengecek korolari jumlah baris\n",
        "      korolari_baris = all(np.sum(C, axis=1) < 1)\n",
        "\n",
        "      # Mengecek korolari jumlah kolom\n",
        "      korolari_kolom = all(np.sum(C, axis=0) < 1)\n",
        "\n",
        "      if korolari_baris and korolari_kolom:\n",
        "        return \"Matriks konsumsi memenuhi korolari jumlah baris dan jumlah kolom.\"\n",
        "      elif korolari_baris:\n",
        "        return \"Matriks konsumsi memenuhi korolari jumlah baris.\"\n",
        "      elif korolari_kolom:\n",
        "        return \"Matriks konsumsi memenuhi korolari jumlah kolom.\"\n",
        "      else:\n",
        "        return \"Matriks konsumsi tidak memenuhi korolari jumlah baris maupun jumlah kolom.\"\n",
        "\n",
        "    print(\"\\n\")\n",
        "    for i in range(n):\n",
        "      for j in range(n):\n",
        "        C[i,j] = float(input(f\"Masukkan entri matriks ke-[{i+1},{j+1}]: \"))\n",
        "    print(\"\\n\")\n",
        "\n",
        "    # Cek apakah matriks konsumsi tersebut produktif\n",
        "    is_productive, production_vector = is_productive_matrix(C)\n",
        "\n",
        "    if is_productive:\n",
        "      print(f\"Matriks Konsumsi  = \\n {C} \\n\")\n",
        "      print(\"Matriks konsumsi adalah produktif.\")\n",
        "      print(\"Vektor produksi (x) yang memenuhi ketidaksetaraan:\")\n",
        "      print(production_vector)\n",
        "      print(\"Hasil perhitungan Cx:\")\n",
        "      print(np.dot(C,production_vector))\n",
        "      print(cek_korolari(C))\n",
        "\n",
        "    else:\n",
        "      print(\"Matriks konsumsi bukan matriks produktif.\")\n",
        "  else:\n",
        "    print(\"\\nPilihan tidak tersedia, silakan coba kembali\")\n",
        "    leontief_terbuka()"
      ],
      "metadata": {
        "id": "AEfNSk-V4Ja8"
      },
      "execution_count": null,
      "outputs": []
    },
    {
      "cell_type": "markdown",
      "source": [
        "Contoh\n",
        "\n",
        "Vektor Produksi untuk Sebuah Kota"
      ],
      "metadata": {
        "id": "ju_3CrUa4MSP"
      }
    },
    {
      "cell_type": "code",
      "source": [
        "leontief_terbuka()"
      ],
      "metadata": {
        "colab": {
          "base_uri": "https://localhost:8080/"
        },
        "id": "1bc26N5T4Ozs",
        "outputId": "6eae7b29-a29d-452a-e72d-dd6f1942d083"
      },
      "execution_count": null,
      "outputs": [
        {
          "output_type": "stream",
          "name": "stdout",
          "text": [
            "Model Terbuka (Produksi) Leontief\n",
            "1. Mencari Vektor Produksi (x)\n",
            "2. Mencari Vektor Permintaan (d)\n",
            "3. Periksa Matriks Konsumsi Produktif (C)\n",
            "Pilihan: 1\n",
            "Masukkan jumlah variabel: 3\n",
            "\n",
            "\n",
            "Masukkan entri matriks ke-[1,1]: 0\n",
            "Masukkan entri matriks ke-[1,2]: 0.65\n",
            "Masukkan entri matriks ke-[1,3]: 0.55\n",
            "Masukkan entri matriks ke-[2,1]: 0.25\n",
            "Masukkan entri matriks ke-[2,2]: 0.05\n",
            "Masukkan entri matriks ke-[2,3]: 0.10\n",
            "Masukkan entri matriks ke-[3,1]: 0.25\n",
            "Masukkan entri matriks ke-[3,2]: 0.05\n",
            "Masukkan entri matriks ke-[3,3]: 0\n",
            "\n",
            "\n",
            "Masukkan entri ke-1 vektor permintaan: 50000\n",
            "Masukkan entri ke-2 vektor permintaan: 25000\n",
            "Masukkan entri ke-3 vektor permintaan: 0\n",
            "\n",
            "\n",
            "Matriks Konsumsi (C) = \n",
            " [[0.   0.65 0.55]\n",
            " [0.25 0.05 0.1 ]\n",
            " [0.25 0.05 0.  ]] \n",
            "\n",
            "Vektor Permintaan (d) = \n",
            " [50000. 25000.     0.] \n",
            "\n",
            "Perhitungan (I-C) = \n",
            " [[ 1.   -0.65 -0.55]\n",
            " [-0.25  0.95 -0.1 ]\n",
            " [-0.25 -0.05  1.  ]] \n",
            "\n",
            "Vektor Produksi (x) = \n",
            " [102087.47514911  56163.02186879  28330.01988072] \n",
            "\n"
          ]
        }
      ]
    },
    {
      "cell_type": "markdown",
      "source": [
        "Contoh\n",
        "\n",
        "Matriks Konsumsi Produktif"
      ],
      "metadata": {
        "id": "jFXbl4q64RBa"
      }
    },
    {
      "cell_type": "code",
      "source": [
        "leontief_terbuka()"
      ],
      "metadata": {
        "colab": {
          "base_uri": "https://localhost:8080/"
        },
        "id": "rYegUZXE4ZGK",
        "outputId": "3b9993a4-c975-4ff1-c330-9e245d87e5ae"
      },
      "execution_count": null,
      "outputs": [
        {
          "output_type": "stream",
          "name": "stdout",
          "text": [
            "Model Terbuka (Produksi) Leontief\n",
            "1. Mencari Vektor Produksi (x)\n",
            "2. Mencari Vektor Permintaan (d)\n",
            "3. Periksa Matriks Konsumsi Produktif (C)\n",
            "Pilihan: 3\n",
            "Masukkan jumlah variabel: 3\n",
            "\n",
            "\n",
            "Masukkan entri matriks ke-[1,1]: 0\n",
            "Masukkan entri matriks ke-[1,2]: 0.65\n",
            "Masukkan entri matriks ke-[1,3]: 0.55\n",
            "Masukkan entri matriks ke-[2,1]: 0.25\n",
            "Masukkan entri matriks ke-[2,2]: 0.05\n",
            "Masukkan entri matriks ke-[2,3]: 0.10\n",
            "Masukkan entri matriks ke-[3,1]: 0.25\n",
            "Masukkan entri matriks ke-[3,2]: 0.05\n",
            "Masukkan entri matriks ke-[3,3]: 0\n",
            "\n",
            "\n",
            "Matriks Konsumsi  = \n",
            " [[0.   0.65 0.55]\n",
            " [0.25 0.05 0.1 ]\n",
            " [0.25 0.05 0.  ]] \n",
            "\n",
            "Matriks konsumsi adalah produktif.\n",
            "Vektor produksi (x) yang memenuhi ketidaksetaraan:\n",
            "[2.2  1.35 1.3 ]\n",
            "Hasil perhitungan Cx:\n",
            "[1.5925 0.7475 0.6175]\n",
            "Matriks konsumsi memenuhi korolari jumlah kolom.\n"
          ]
        }
      ]
    },
    {
      "cell_type": "markdown",
      "source": [
        "Contoh\n",
        "\n",
        "Mencari Vektor Permintaan"
      ],
      "metadata": {
        "id": "qHP8To_B4ime"
      }
    },
    {
      "cell_type": "code",
      "source": [
        "leontief_terbuka()"
      ],
      "metadata": {
        "colab": {
          "base_uri": "https://localhost:8080/"
        },
        "id": "IVQBu4CD4jML",
        "outputId": "da147ff4-1dfb-40bf-a9f7-dfdec4ecb7e9"
      },
      "execution_count": null,
      "outputs": [
        {
          "output_type": "stream",
          "name": "stdout",
          "text": [
            "Model Terbuka (Produksi) Leontief\n",
            "1. Mencari Vektor Produksi (x)\n",
            "2. Mencari Vektor Permintaan (d)\n",
            "3. Periksa Matriks Konsumsi Produktif (C)\n",
            "Pilihan: 2\n",
            "Masukkan jumlah variabel: 3\n",
            "Masukkan entri ke-1 vektor produksi: 10000\n",
            "Masukkan entri ke-2 vektor produksi: 5000\n",
            "Masukkan entri ke-3 vektor produksi: 5000\n",
            "\n",
            "\n",
            "Masukkan entri matriks ke-[1,1]: 0.4\n",
            "Masukkan entri matriks ke-[1,2]: 0.3\n",
            "Masukkan entri matriks ke-[1,3]: 0.25\n",
            "Masukkan entri matriks ke-[2,1]: 0.2\n",
            "Masukkan entri matriks ke-[2,2]: 0.2\n",
            "Masukkan entri matriks ke-[2,3]: 0.25\n",
            "Masukkan entri matriks ke-[3,1]: 0.1\n",
            "Masukkan entri matriks ke-[3,2]: 0.2\n",
            "Masukkan entri matriks ke-[3,3]: 0.25\n",
            "\n",
            "\n",
            "Matriks Konsumsi  = \n",
            " [[0.4  0.3  0.25]\n",
            " [0.2  0.2  0.25]\n",
            " [0.1  0.2  0.25]] \n",
            "\n",
            "Vektor Produksi (x) = \n",
            " [10000.  5000.  5000.] \n",
            "\n",
            "Perhitungan (I-C) = \n",
            " [[ 0.6  -0.3  -0.25]\n",
            " [-0.2   0.8  -0.25]\n",
            " [-0.1  -0.2   0.75]] \n",
            "\n",
            "Vektor Permintaan (d) = \n",
            " [3250.  750. 1750.]\n"
          ]
        }
      ]
    },
    {
      "cell_type": "markdown",
      "source": [
        "Latihan Nomor 2"
      ],
      "metadata": {
        "id": "oqZft_BD4nrO"
      }
    },
    {
      "cell_type": "code",
      "source": [
        "leontief_terbuka()"
      ],
      "metadata": {
        "colab": {
          "base_uri": "https://localhost:8080/"
        },
        "id": "YSOKcYj04qUi",
        "outputId": "4ff73f5b-f6cd-4d24-bdb2-f39bfe106b05"
      },
      "execution_count": null,
      "outputs": [
        {
          "output_type": "stream",
          "name": "stdout",
          "text": [
            "Model Terbuka (Produksi) Leontief\n",
            "1. Mencari Vektor Produksi (x)\n",
            "2. Mencari Vektor Permintaan (d)\n",
            "3. Periksa Matriks Konsumsi Produktif (C)\n",
            "Pilihan: 3\n",
            "Masukkan jumlah variabel: 2\n",
            "\n",
            "\n",
            "Masukkan entri matriks ke-[1,1]: 0.8\n",
            "Masukkan entri matriks ke-[1,2]: 0.1\n",
            "Masukkan entri matriks ke-[2,1]: 0.3\n",
            "Masukkan entri matriks ke-[2,2]: 0.6\n",
            "\n",
            "\n",
            "Matriks Konsumsi  = \n",
            " [[0.8 0.1]\n",
            " [0.3 0.6]] \n",
            "\n",
            "Matriks konsumsi adalah produktif.\n",
            "Vektor produksi (x) yang memenuhi ketidaksetaraan:\n",
            "[1.1 1.3]\n",
            "Hasil perhitungan Cx:\n",
            "[1.01 1.11]\n",
            "Matriks konsumsi memenuhi korolari jumlah baris.\n"
          ]
        }
      ]
    },
    {
      "cell_type": "code",
      "source": [
        "leontief_terbuka()"
      ],
      "metadata": {
        "colab": {
          "base_uri": "https://localhost:8080/"
        },
        "id": "jdThmPk24uT-",
        "outputId": "e0615a97-2c70-40b3-c023-f4999c6b77dd"
      },
      "execution_count": null,
      "outputs": [
        {
          "output_type": "stream",
          "name": "stdout",
          "text": [
            "Model Terbuka (Produksi) Leontief\n",
            "1. Mencari Vektor Produksi (x)\n",
            "2. Mencari Vektor Permintaan (d)\n",
            "3. Periksa Matriks Konsumsi Produktif (C)\n",
            "Pilihan: 3\n",
            "Masukkan jumlah variabel: 3\n",
            "\n",
            "\n",
            "Masukkan entri matriks ke-[1,1]: 0.70\n",
            "Masukkan entri matriks ke-[1,2]: 0.30\n",
            "Masukkan entri matriks ke-[1,3]: 0.25\n",
            "Masukkan entri matriks ke-[2,1]: 0.20\n",
            "Masukkan entri matriks ke-[2,2]: 0.40\n",
            "Masukkan entri matriks ke-[2,3]: 0.25\n",
            "Masukkan entri matriks ke-[3,1]: 0.05\n",
            "Masukkan entri matriks ke-[3,2]: 0.15\n",
            "Masukkan entri matriks ke-[3,3]: 0.25\n",
            "\n",
            "\n",
            "Matriks Konsumsi  = \n",
            " [[0.7  0.3  0.25]\n",
            " [0.2  0.4  0.25]\n",
            " [0.05 0.15 0.25]] \n",
            "\n",
            "Matriks konsumsi adalah produktif.\n",
            "Vektor produksi (x) yang memenuhi ketidaksetaraan:\n",
            "[1.55 1.45 1.2 ]\n",
            "Hasil perhitungan Cx:\n",
            "[1.82  1.19  0.595]\n",
            "Matriks konsumsi memenuhi korolari jumlah kolom.\n"
          ]
        }
      ]
    },
    {
      "cell_type": "code",
      "source": [
        "leontief_terbuka()"
      ],
      "metadata": {
        "colab": {
          "base_uri": "https://localhost:8080/"
        },
        "id": "qXJtTCw_4uq4",
        "outputId": "7f2509a5-5ec6-4d24-e256-072b81596cd5"
      },
      "execution_count": null,
      "outputs": [
        {
          "output_type": "stream",
          "name": "stdout",
          "text": [
            "Model Terbuka (Produksi) Leontief\n",
            "1. Mencari Vektor Produksi (x)\n",
            "2. Mencari Vektor Permintaan (d)\n",
            "3. Periksa Matriks Konsumsi Produktif (C)\n",
            "Pilihan: 3\n",
            "Masukkan jumlah variabel: 3\n",
            "\n",
            "\n",
            "Masukkan entri matriks ke-[1,1]: 0.7\n",
            "Masukkan entri matriks ke-[1,2]: 0.3\n",
            "Masukkan entri matriks ke-[1,3]: 0.2\n",
            "Masukkan entri matriks ke-[2,1]: 0.1\n",
            "Masukkan entri matriks ke-[2,2]: 0.4\n",
            "Masukkan entri matriks ke-[2,3]: 0.3\n",
            "Masukkan entri matriks ke-[3,1]: 0.2\n",
            "Masukkan entri matriks ke-[3,2]: 0.4\n",
            "Masukkan entri matriks ke-[3,3]: 0.1\n",
            "\n",
            "\n",
            "Matriks Konsumsi  = \n",
            " [[0.7 0.3 0.2]\n",
            " [0.1 0.4 0.3]\n",
            " [0.2 0.4 0.1]] \n",
            "\n",
            "Matriks konsumsi adalah produktif.\n",
            "Vektor produksi (x) yang memenuhi ketidaksetaraan:\n",
            "[1.5 1.4 1.6]\n",
            "Hasil perhitungan Cx:\n",
            "[1.79 1.19 1.02]\n",
            "Matriks konsumsi tidak memenuhi korolari jumlah baris maupun jumlah kolom.\n"
          ]
        }
      ]
    },
    {
      "cell_type": "markdown",
      "source": [
        "Latihan\n",
        "Nomor 5"
      ],
      "metadata": {
        "id": "KK_heKu64vLS"
      }
    },
    {
      "cell_type": "code",
      "source": [
        "leontief_terbuka()"
      ],
      "metadata": {
        "colab": {
          "base_uri": "https://localhost:8080/"
        },
        "id": "ML0pZyUS4wQJ",
        "outputId": "7315ae54-bc33-4b8b-cb38-060c233b3eb9"
      },
      "execution_count": null,
      "outputs": [
        {
          "output_type": "stream",
          "name": "stdout",
          "text": [
            "Model Terbuka (Produksi) Leontief\n",
            "1. Mencari Vektor Produksi (x)\n",
            "2. Mencari Vektor Permintaan (d)\n",
            "3. Periksa Matriks Konsumsi Produktif (C)\n",
            "Pilihan: 1\n",
            "Masukkan jumlah variabel: 3\n",
            "\n",
            "\n",
            "Masukkan entri matriks ke-[1,1]: 0\n",
            "Masukkan entri matriks ke-[1,2]: 0.2\n",
            "Masukkan entri matriks ke-[1,3]: 0.3\n",
            "Masukkan entri matriks ke-[2,1]: 0.1\n",
            "Masukkan entri matriks ke-[2,2]: 0\n",
            "Masukkan entri matriks ke-[2,3]: 0.4\n",
            "Masukkan entri matriks ke-[3,1]: 0.3\n",
            "Masukkan entri matriks ke-[3,2]: 0.4\n",
            "Masukkan entri matriks ke-[3,3]: 0\n",
            "\n",
            "\n",
            "Masukkan entri ke-1 vektor permintaan: 500\n",
            "Masukkan entri ke-2 vektor permintaan: 700\n",
            "Masukkan entri ke-3 vektor permintaan: 600\n",
            "\n",
            "\n",
            "Matriks Konsumsi (C) = \n",
            " [[0.  0.2 0.3]\n",
            " [0.1 0.  0.4]\n",
            " [0.3 0.4 0. ]] \n",
            "\n",
            "Vektor Permintaan (d) = \n",
            " [500. 700. 600.] \n",
            "\n",
            "Perhitungan (I-C) = \n",
            " [[ 1.  -0.2 -0.3]\n",
            " [-0.1  1.  -0.4]\n",
            " [-0.3 -0.4  1. ]] \n",
            "\n",
            "Vektor Produksi (x) = \n",
            " [1256.48414986 1448.12680115 1556.19596542] \n",
            "\n"
          ]
        }
      ]
    }
  ]
}